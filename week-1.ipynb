{
 "cells": [
  {
   "cell_type": "markdown",
   "id": "68bb698c",
   "metadata": {},
   "source": [
    "**------- Variables -------**"
   ]
  },
  {
   "cell_type": "code",
   "execution_count": 1,
   "id": "bf045641",
   "metadata": {},
   "outputs": [],
   "source": [
    "var1 = 5 #integer\n",
    "\n",
    "var2 = 10.3 #double\n",
    "\n",
    "var3 = \"1504\" #string\n",
    "\n",
    "var = \"Merhaba\" #string"
   ]
  },
  {
   "cell_type": "markdown",
   "id": "d5bb2973",
   "metadata": {},
   "source": [
    "**------- List -------**"
   ]
  },
  {
   "cell_type": "code",
   "execution_count": 2,
   "id": "4a61868e",
   "metadata": {},
   "outputs": [
    {
     "data": {
      "text/plain": [
       "list"
      ]
     },
     "execution_count": 2,
     "metadata": {},
     "output_type": "execute_result"
    }
   ],
   "source": [
    "nums = [5,10,35,20,15,45]\n",
    "type(nums) #tipini söyler"
   ]
  },
  {
   "cell_type": "code",
   "execution_count": 3,
   "id": "fb992745",
   "metadata": {},
   "outputs": [
    {
     "name": "stdout",
     "output_type": "stream",
     "text": [
      "['Ali', 'Ayşe', 'Mehmet', 'Derya', 'Ahmet']\n",
      "Ali\n",
      "Ayşe\n",
      "Ahmet\n",
      "['Ali', 'Ayşe']\n"
     ]
    }
   ],
   "source": [
    "stringList = [\"Ali\",\"Ayşe\",\"Mehmet\",\"Derya\",\"Ahmet\"]\n",
    "print(stringList) #listeyi verir\n",
    "print(stringList[0]) #ilk indisi yazar\n",
    "print(stringList[1]) #1.indexteki elemanı ekrana yazar\n",
    "print(stringList[-1]) #son indisi yazar\n",
    "print(stringList[0:2]) #0dan 2.indise kadar olan elemanları yazar"
   ]
  },
  {
   "cell_type": "code",
   "execution_count": 4,
   "id": "69633510",
   "metadata": {},
   "outputs": [
    {
     "data": {
      "text/plain": [
       "['__add__',\n",
       " '__class__',\n",
       " '__class_getitem__',\n",
       " '__contains__',\n",
       " '__delattr__',\n",
       " '__delitem__',\n",
       " '__dir__',\n",
       " '__doc__',\n",
       " '__eq__',\n",
       " '__format__',\n",
       " '__ge__',\n",
       " '__getattribute__',\n",
       " '__getitem__',\n",
       " '__getstate__',\n",
       " '__gt__',\n",
       " '__hash__',\n",
       " '__iadd__',\n",
       " '__imul__',\n",
       " '__init__',\n",
       " '__init_subclass__',\n",
       " '__iter__',\n",
       " '__le__',\n",
       " '__len__',\n",
       " '__lt__',\n",
       " '__mul__',\n",
       " '__ne__',\n",
       " '__new__',\n",
       " '__reduce__',\n",
       " '__reduce_ex__',\n",
       " '__repr__',\n",
       " '__reversed__',\n",
       " '__rmul__',\n",
       " '__setattr__',\n",
       " '__setitem__',\n",
       " '__sizeof__',\n",
       " '__str__',\n",
       " '__subclasshook__',\n",
       " 'append',\n",
       " 'clear',\n",
       " 'copy',\n",
       " 'count',\n",
       " 'extend',\n",
       " 'index',\n",
       " 'insert',\n",
       " 'pop',\n",
       " 'remove',\n",
       " 'reverse',\n",
       " 'sort']"
      ]
     },
     "execution_count": 4,
     "metadata": {},
     "output_type": "execute_result"
    }
   ],
   "source": [
    "dir(stringList) #liste ile kullanılcabilecek metodları yazdırır"
   ]
  },
  {
   "cell_type": "code",
   "execution_count": 5,
   "id": "e1dccc18",
   "metadata": {},
   "outputs": [
    {
     "name": "stdout",
     "output_type": "stream",
     "text": [
      "['Ali', 'Ayşe', 'Mehmet', 'Derya', 'Ahmet', 'Gülcan']\n"
     ]
    }
   ],
   "source": [
    "stringList.append(\"Gülcan\") #listenin sonuna ekler\n",
    "print(stringList)"
   ]
  },
  {
   "cell_type": "code",
   "execution_count": 6,
   "id": "0f860489",
   "metadata": {},
   "outputs": [
    {
     "name": "stdout",
     "output_type": "stream",
     "text": [
      "['Ali', 'Ayşe', 'Mehmet', 'Derya', 'Deniz']\n"
     ]
    }
   ],
   "source": [
    "stringList.remove(\"Gülcan\") #listeden siler\n",
    "stringList[4] = \"Deniz\" #4.indisteki elemanı güncelller\n",
    "print(stringList)"
   ]
  },
  {
   "cell_type": "code",
   "execution_count": 7,
   "id": "34f876b0",
   "metadata": {},
   "outputs": [
    {
     "name": "stdout",
     "output_type": "stream",
     "text": [
      "5\n",
      "['Deniz', 'Derya', 'Mehmet', 'Ayşe', 'Ali']\n"
     ]
    }
   ],
   "source": [
    "print(len(stringList))\n",
    "stringList.reverse() #listeyi ters çevirir\n",
    "print(stringList)"
   ]
  },
  {
   "cell_type": "code",
   "execution_count": 8,
   "id": "63f00eff",
   "metadata": {},
   "outputs": [
    {
     "name": "stdout",
     "output_type": "stream",
     "text": [
      "[0, 1, 2, 4, 6, 8, 9]\n"
     ]
    }
   ],
   "source": [
    "intList = [2,8,4,6,1,0,9]\n",
    "intList.sort() #küçükten büyüğe sıralar\n",
    "print(intList)"
   ]
  },
  {
   "cell_type": "code",
   "execution_count": 9,
   "id": "9ce91363",
   "metadata": {},
   "outputs": [
    {
     "name": "stdout",
     "output_type": "stream",
     "text": [
      "30\n",
      "0\n"
     ]
    }
   ],
   "source": [
    "sumofnums = sum(intList) \n",
    "print(sumofnums) #(0+1+2+4+6+8+9)=30\n",
    "minimum = min(intList) \n",
    "print(minimum) #en küçük elemanı yazar=0"
   ]
  },
  {
   "cell_type": "code",
   "execution_count": 10,
   "id": "7d16d687",
   "metadata": {},
   "outputs": [
    {
     "name": "stdout",
     "output_type": "stream",
     "text": [
      "11\n"
     ]
    }
   ],
   "source": [
    "new_list = [8,4,9,3,1,7,11,5,2]\n",
    "print(max(new_list))"
   ]
  },
  {
   "cell_type": "markdown",
   "id": "6da0c407",
   "metadata": {},
   "source": [
    "**------- For Loop -------**"
   ]
  },
  {
   "cell_type": "code",
   "execution_count": 11,
   "id": "0b548c8a",
   "metadata": {},
   "outputs": [
    {
     "name": "stdout",
     "output_type": "stream",
     "text": [
      "1\n",
      "2\n",
      "3\n",
      "4\n"
     ]
    }
   ],
   "source": [
    "for i in range(1,5):\n",
    "    print(i) #1den 5e kadar yazar"
   ]
  },
  {
   "cell_type": "code",
   "execution_count": 12,
   "id": "e9c8e7a7",
   "metadata": {},
   "outputs": [
    {
     "name": "stdout",
     "output_type": "stream",
     "text": [
      "11\n"
     ]
    }
   ],
   "source": [
    "#for döngüsü ile maksimum sayıyı bulma\n",
    "maksimum = 0\n",
    "new_list = [8,4,9,3,1,7,11,5,2]\n",
    "\n",
    "for each in new_list:\n",
    "    if(each>maksimum):\n",
    "        maksimum=each\n",
    "    else:\n",
    "        continue\n",
    "print(maksimum)"
   ]
  },
  {
   "cell_type": "code",
   "execution_count": 13,
   "id": "e91124b6",
   "metadata": {},
   "outputs": [
    {
     "name": "stdout",
     "output_type": "stream",
     "text": [
      "d\n",
      "e\n",
      "n\n",
      "e\n",
      "m\n",
      "e\n"
     ]
    }
   ],
   "source": [
    "for j in \"deneme\":\n",
    "    print(j)"
   ]
  },
  {
   "cell_type": "markdown",
   "id": "867fb185",
   "metadata": {},
   "source": [
    "**------- While Loop -------**"
   ]
  },
  {
   "cell_type": "code",
   "execution_count": 14,
   "id": "765c7770",
   "metadata": {},
   "outputs": [
    {
     "name": "stdout",
     "output_type": "stream",
     "text": [
      "0\n",
      "1\n",
      "2\n",
      "3\n",
      "4\n"
     ]
    }
   ],
   "source": [
    "i= 0\n",
    "while ( i<5):\n",
    "    print(i)\n",
    "    i= i+1"
   ]
  },
  {
   "cell_type": "markdown",
   "id": "6ac9d32b",
   "metadata": {},
   "source": [
    "*Default Function*"
   ]
  },
  {
   "cell_type": "code",
   "execution_count": 15,
   "id": "6cefcaf8",
   "metadata": {},
   "outputs": [
    {
     "data": {
      "text/plain": [
       "28.259999999999998"
      ]
     },
     "execution_count": 15,
     "metadata": {},
     "output_type": "execute_result"
    }
   ],
   "source": [
    "def areaOfTheCircle(r,pi=3.14):\n",
    "    circle = pi*r*r\n",
    "    return circle\n",
    "areaOfTheCircle(3)   "
   ]
  },
  {
   "cell_type": "code",
   "execution_count": 16,
   "id": "91f6f80c",
   "metadata": {},
   "outputs": [
    {
     "name": "stdout",
     "output_type": "stream",
     "text": [
      "9\n",
      "9\n"
     ]
    }
   ],
   "source": [
    "def calc(x):\n",
    "    output = x*x\n",
    "    return output\n",
    "result = calc(3)\n",
    "print(result) \n",
    "\n",
    "result2 = lambda x: x*x  \n",
    "print(result2(3)) #ikisi arasındaki fark lambda ile daha kısa şekilde yazılması"
   ]
  },
  {
   "cell_type": "markdown",
   "id": "ff0979b6",
   "metadata": {},
   "source": [
    "**------- Dictionary -------**"
   ]
  },
  {
   "cell_type": "code",
   "execution_count": 17,
   "id": "358f2a42",
   "metadata": {},
   "outputs": [
    {
     "name": "stdout",
     "output_type": "stream",
     "text": [
      "24\n"
     ]
    }
   ],
   "source": [
    "dictionary = {\"Gülcan\":24,\"Merve\":26}\n",
    "print(dictionary[\"Gülcan\"])"
   ]
  },
  {
   "cell_type": "code",
   "execution_count": 18,
   "id": "5b3e62fa",
   "metadata": {},
   "outputs": [
    {
     "name": "stdout",
     "output_type": "stream",
     "text": [
      "Bilgisayar\n"
     ]
    }
   ],
   "source": [
    "dict1={\"Computer\":\"Bilgisayar\",\"Driver\":\"Sürücü\",\"Memory\":\"Hafıza\",\"Output\":\"Çıktı\",\"Software\":\"Yazılım\",\"Printer\":\"Yazıcı\"}\n",
    "\n",
    "print(dict1[\"Computer\"])"
   ]
  },
  {
   "cell_type": "code",
   "execution_count": 19,
   "id": "2e385397",
   "metadata": {},
   "outputs": [
    {
     "data": {
      "text/plain": [
       "dict_keys(['Computer', 'Driver', 'Memory', 'Output', 'Software', 'Printer'])"
      ]
     },
     "execution_count": 19,
     "metadata": {},
     "output_type": "execute_result"
    }
   ],
   "source": [
    "dict1.keys()"
   ]
  },
  {
   "cell_type": "code",
   "execution_count": 20,
   "id": "133b3d9c",
   "metadata": {},
   "outputs": [
    {
     "data": {
      "text/plain": [
       "dict_values(['Bilgisayar', 'Sürücü', 'Hafıza', 'Çıktı', 'Yazılım', 'Yazıcı'])"
      ]
     },
     "execution_count": 20,
     "metadata": {},
     "output_type": "execute_result"
    }
   ],
   "source": [
    "dict1.values()"
   ]
  },
  {
   "cell_type": "code",
   "execution_count": 21,
   "id": "2f319a28",
   "metadata": {},
   "outputs": [
    {
     "name": "stdout",
     "output_type": "stream",
     "text": [
      "yes\n"
     ]
    }
   ],
   "source": [
    "keys = dict1.keys()\n",
    "\n",
    "if \"Memory\" in keys: 
    "    \n",
    "    print(\"yes\")\n",
    "\n",
    "else:\n",
    "    print(\"no\")"
   ]
  },
  {
   "cell_type": "code",
   "execution_count": null,
   "id": "4ca45f33",
   "metadata": {},
   "outputs": [],
   "source": []
  }
 ],
 "metadata": {
  "kernelspec": {
   "display_name": "Python 3 (ipykernel)",
   "language": "python",
   "name": "python3"
  },
  "language_info": {
   "codemirror_mode": {
    "name": "ipython",
    "version": 3
   },
   "file_extension": ".py",
   "mimetype": "text/x-python",
   "name": "python",
   "nbconvert_exporter": "python",
   "pygments_lexer": "ipython3",
   "version": "3.11.2"
  }
 },
 "nbformat": 4,
 "nbformat_minor": 5
}
