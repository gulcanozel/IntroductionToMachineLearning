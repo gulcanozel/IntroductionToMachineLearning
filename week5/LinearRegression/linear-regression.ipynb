{
 "cells": [
  {
   "cell_type": "code",
   "execution_count": 1,
   "id": "2c9e8a84",
   "metadata": {
    "_cell_guid": "b1076dfc-b9ad-4769-8c92-a6c4dae69d19",
    "_uuid": "8f2839f25d086af736a60e9eeb907d3b93b6e0e5",
    "execution": {
     "iopub.execute_input": "2023-04-21T17:40:20.293233Z",
     "iopub.status.busy": "2023-04-21T17:40:20.291485Z",
     "iopub.status.idle": "2023-04-21T17:40:21.325618Z",
     "shell.execute_reply": "2023-04-21T17:40:21.324543Z"
    },
    "papermill": {
     "duration": 1.046976,
     "end_time": "2023-04-21T17:40:21.328580",
     "exception": false,
     "start_time": "2023-04-21T17:40:20.281604",
     "status": "completed"
    },
    "tags": []
   },
   "outputs": [],
   "source": [
    "import numpy as np \n",
    "import pandas as pd \n",
    "import matplotlib.pyplot as plt\n",
    "from sklearn.linear_model import LinearRegression\n",
    "from sklearn.model_selection import train_test_split\n",
    "from sklearn.metrics import r2_score"
   ]
  },
  {
   "cell_type": "code",
   "execution_count": 2,
   "id": "d7b85727",
   "metadata": {
    "execution": {
     "iopub.execute_input": "2023-04-21T17:40:21.339656Z",
     "iopub.status.busy": "2023-04-21T17:40:21.339254Z",
     "iopub.status.idle": "2023-04-21T17:40:21.357152Z",
     "shell.execute_reply": "2023-04-21T17:40:21.356164Z"
    },
    "papermill": {
     "duration": 0.02661,
     "end_time": "2023-04-21T17:40:21.359848",
     "exception": false,
     "start_time": "2023-04-21T17:40:21.333238",
     "status": "completed"
    },
    "tags": []
   },
   "outputs": [],
   "source": [
    "data = pd.read_csv(\"/kaggle/input/salary-dataset-simple-linear-regression/Salary_dataset.csv\")"
   ]
  },
  {
   "cell_type": "code",
   "execution_count": 3,
   "id": "84d811da",
   "metadata": {
    "execution": {
     "iopub.execute_input": "2023-04-21T17:40:21.371152Z",
     "iopub.status.busy": "2023-04-21T17:40:21.370752Z",
     "iopub.status.idle": "2023-04-21T17:40:21.404099Z",
     "shell.execute_reply": "2023-04-21T17:40:21.403067Z"
    },
    "papermill": {
     "duration": 0.04186,
     "end_time": "2023-04-21T17:40:21.406560",
     "exception": false,
     "start_time": "2023-04-21T17:40:21.364700",
     "status": "completed"
    },
    "tags": []
   },
   "outputs": [
    {
     "data": {
      "text/html": [
       "<div>\n",
       "<style scoped>\n",
       "    .dataframe tbody tr th:only-of-type {\n",
       "        vertical-align: middle;\n",
       "    }\n",
       "\n",
       "    .dataframe tbody tr th {\n",
       "        vertical-align: top;\n",
       "    }\n",
       "\n",
       "    .dataframe thead th {\n",
       "        text-align: right;\n",
       "    }\n",
       "</style>\n",
       "<table border=\"1\" class=\"dataframe\">\n",
       "  <thead>\n",
       "    <tr style=\"text-align: right;\">\n",
       "      <th></th>\n",
       "      <th>Unnamed: 0</th>\n",
       "      <th>YearsExperience</th>\n",
       "      <th>Salary</th>\n",
       "    </tr>\n",
       "  </thead>\n",
       "  <tbody>\n",
       "    <tr>\n",
       "      <th>0</th>\n",
       "      <td>0</td>\n",
       "      <td>1.2</td>\n",
       "      <td>39344.0</td>\n",
       "    </tr>\n",
       "    <tr>\n",
       "      <th>1</th>\n",
       "      <td>1</td>\n",
       "      <td>1.4</td>\n",
       "      <td>46206.0</td>\n",
       "    </tr>\n",
       "    <tr>\n",
       "      <th>2</th>\n",
       "      <td>2</td>\n",
       "      <td>1.6</td>\n",
       "      <td>37732.0</td>\n",
       "    </tr>\n",
       "    <tr>\n",
       "      <th>3</th>\n",
       "      <td>3</td>\n",
       "      <td>2.1</td>\n",
       "      <td>43526.0</td>\n",
       "    </tr>\n",
       "    <tr>\n",
       "      <th>4</th>\n",
       "      <td>4</td>\n",
       "      <td>2.3</td>\n",
       "      <td>39892.0</td>\n",
       "    </tr>\n",
       "    <tr>\n",
       "      <th>5</th>\n",
       "      <td>5</td>\n",
       "      <td>3.0</td>\n",
       "      <td>56643.0</td>\n",
       "    </tr>\n",
       "    <tr>\n",
       "      <th>6</th>\n",
       "      <td>6</td>\n",
       "      <td>3.1</td>\n",
       "      <td>60151.0</td>\n",
       "    </tr>\n",
       "    <tr>\n",
       "      <th>7</th>\n",
       "      <td>7</td>\n",
       "      <td>3.3</td>\n",
       "      <td>54446.0</td>\n",
       "    </tr>\n",
       "    <tr>\n",
       "      <th>8</th>\n",
       "      <td>8</td>\n",
       "      <td>3.3</td>\n",
       "      <td>64446.0</td>\n",
       "    </tr>\n",
       "    <tr>\n",
       "      <th>9</th>\n",
       "      <td>9</td>\n",
       "      <td>3.8</td>\n",
       "      <td>57190.0</td>\n",
       "    </tr>\n",
       "    <tr>\n",
       "      <th>10</th>\n",
       "      <td>10</td>\n",
       "      <td>4.0</td>\n",
       "      <td>63219.0</td>\n",
       "    </tr>\n",
       "    <tr>\n",
       "      <th>11</th>\n",
       "      <td>11</td>\n",
       "      <td>4.1</td>\n",
       "      <td>55795.0</td>\n",
       "    </tr>\n",
       "    <tr>\n",
       "      <th>12</th>\n",
       "      <td>12</td>\n",
       "      <td>4.1</td>\n",
       "      <td>56958.0</td>\n",
       "    </tr>\n",
       "    <tr>\n",
       "      <th>13</th>\n",
       "      <td>13</td>\n",
       "      <td>4.2</td>\n",
       "      <td>57082.0</td>\n",
       "    </tr>\n",
       "    <tr>\n",
       "      <th>14</th>\n",
       "      <td>14</td>\n",
       "      <td>4.6</td>\n",
       "      <td>61112.0</td>\n",
       "    </tr>\n",
       "    <tr>\n",
       "      <th>15</th>\n",
       "      <td>15</td>\n",
       "      <td>5.0</td>\n",
       "      <td>67939.0</td>\n",
       "    </tr>\n",
       "    <tr>\n",
       "      <th>16</th>\n",
       "      <td>16</td>\n",
       "      <td>5.2</td>\n",
       "      <td>66030.0</td>\n",
       "    </tr>\n",
       "    <tr>\n",
       "      <th>17</th>\n",
       "      <td>17</td>\n",
       "      <td>5.4</td>\n",
       "      <td>83089.0</td>\n",
       "    </tr>\n",
       "    <tr>\n",
       "      <th>18</th>\n",
       "      <td>18</td>\n",
       "      <td>6.0</td>\n",
       "      <td>81364.0</td>\n",
       "    </tr>\n",
       "    <tr>\n",
       "      <th>19</th>\n",
       "      <td>19</td>\n",
       "      <td>6.1</td>\n",
       "      <td>93941.0</td>\n",
       "    </tr>\n",
       "    <tr>\n",
       "      <th>20</th>\n",
       "      <td>20</td>\n",
       "      <td>6.9</td>\n",
       "      <td>91739.0</td>\n",
       "    </tr>\n",
       "    <tr>\n",
       "      <th>21</th>\n",
       "      <td>21</td>\n",
       "      <td>7.2</td>\n",
       "      <td>98274.0</td>\n",
       "    </tr>\n",
       "    <tr>\n",
       "      <th>22</th>\n",
       "      <td>22</td>\n",
       "      <td>8.0</td>\n",
       "      <td>101303.0</td>\n",
       "    </tr>\n",
       "    <tr>\n",
       "      <th>23</th>\n",
       "      <td>23</td>\n",
       "      <td>8.3</td>\n",
       "      <td>113813.0</td>\n",
       "    </tr>\n",
       "    <tr>\n",
       "      <th>24</th>\n",
       "      <td>24</td>\n",
       "      <td>8.8</td>\n",
       "      <td>109432.0</td>\n",
       "    </tr>\n",
       "    <tr>\n",
       "      <th>25</th>\n",
       "      <td>25</td>\n",
       "      <td>9.1</td>\n",
       "      <td>105583.0</td>\n",
       "    </tr>\n",
       "    <tr>\n",
       "      <th>26</th>\n",
       "      <td>26</td>\n",
       "      <td>9.6</td>\n",
       "      <td>116970.0</td>\n",
       "    </tr>\n",
       "    <tr>\n",
       "      <th>27</th>\n",
       "      <td>27</td>\n",
       "      <td>9.7</td>\n",
       "      <td>112636.0</td>\n",
       "    </tr>\n",
       "    <tr>\n",
       "      <th>28</th>\n",
       "      <td>28</td>\n",
       "      <td>10.4</td>\n",
       "      <td>122392.0</td>\n",
       "    </tr>\n",
       "    <tr>\n",
       "      <th>29</th>\n",
       "      <td>29</td>\n",
       "      <td>10.6</td>\n",
       "      <td>121873.0</td>\n",
       "    </tr>\n",
       "  </tbody>\n",
       "</table>\n",
       "</div>"
      ],
      "text/plain": [
       "    Unnamed: 0  YearsExperience    Salary\n",
       "0            0              1.2   39344.0\n",
       "1            1              1.4   46206.0\n",
       "2            2              1.6   37732.0\n",
       "3            3              2.1   43526.0\n",
       "4            4              2.3   39892.0\n",
       "5            5              3.0   56643.0\n",
       "6            6              3.1   60151.0\n",
       "7            7              3.3   54446.0\n",
       "8            8              3.3   64446.0\n",
       "9            9              3.8   57190.0\n",
       "10          10              4.0   63219.0\n",
       "11          11              4.1   55795.0\n",
       "12          12              4.1   56958.0\n",
       "13          13              4.2   57082.0\n",
       "14          14              4.6   61112.0\n",
       "15          15              5.0   67939.0\n",
       "16          16              5.2   66030.0\n",
       "17          17              5.4   83089.0\n",
       "18          18              6.0   81364.0\n",
       "19          19              6.1   93941.0\n",
       "20          20              6.9   91739.0\n",
       "21          21              7.2   98274.0\n",
       "22          22              8.0  101303.0\n",
       "23          23              8.3  113813.0\n",
       "24          24              8.8  109432.0\n",
       "25          25              9.1  105583.0\n",
       "26          26              9.6  116970.0\n",
       "27          27              9.7  112636.0\n",
       "28          28             10.4  122392.0\n",
       "29          29             10.6  121873.0"
      ]
     },
     "execution_count": 3,
     "metadata": {},
     "output_type": "execute_result"
    }
   ],
   "source": [
    "data"
   ]
  },
  {
   "cell_type": "markdown",
   "id": "59703c73",
   "metadata": {
    "papermill": {
     "duration": 0.004393,
     "end_time": "2023-04-21T17:40:21.415877",
     "exception": false,
     "start_time": "2023-04-21T17:40:21.411484",
     "status": "completed"
    },
    "tags": []
   },
   "source": [
    "Visualization"
   ]
  },
  {
   "cell_type": "code",
   "execution_count": 4,
   "id": "7110335a",
   "metadata": {
    "execution": {
     "iopub.execute_input": "2023-04-21T17:40:21.427307Z",
     "iopub.status.busy": "2023-04-21T17:40:21.426439Z",
     "iopub.status.idle": "2023-04-21T17:40:21.665598Z",
     "shell.execute_reply": "2023-04-21T17:40:21.664676Z"
    },
    "papermill": {
     "duration": 0.247425,
     "end_time": "2023-04-21T17:40:21.667968",
     "exception": false,
     "start_time": "2023-04-21T17:40:21.420543",
     "status": "completed"
    },
    "tags": []
   },
   "outputs": [
    {
     "data": {
      "image/png": "[encoded data removed]",
      "text/plain": [
       "<Figure size 640x480 with 1 Axes>"
      ]
     },
     "metadata": {},
     "output_type": "display_data"
    }
   ],
   "source": [
    "plt.scatter(data.YearsExperience,data.Salary) \n",
    "plt.xlabel(\"YearsExperience\") \n",
    "plt.ylabel(\"Salary\")    \n",
    "plt.show()"
   ]
  },
  {
   "cell_type": "code",
   "execution_count": 5,
   "id": "89f674f1",
   "metadata": {
    "execution": {
     "iopub.execute_input": "2023-04-21T17:40:21.680649Z",
     "iopub.status.busy": "2023-04-21T17:40:21.679980Z",
     "iopub.status.idle": "2023-04-21T17:40:21.685688Z",
     "shell.execute_reply": "2023-04-21T17:40:21.684881Z"
    },
    "papermill": {
     "duration": 0.014729,
     "end_time": "2023-04-21T17:40:21.688007",
     "exception": false,
     "start_time": "2023-04-21T17:40:21.673278",
     "status": "completed"
    },
    "tags": []
   },
   "outputs": [
    {
     "data": {
      "text/plain": [
       "(30,)"
      ]
     },
     "execution_count": 5,
     "metadata": {},
     "output_type": "execute_result"
    }
   ],
   "source": [
    "x = data.YearsExperience.values \n",
    "x.shape"
   ]
  },
  {
   "cell_type": "code",
   "execution_count": 6,
   "id": "812b6564",
   "metadata": {
    "execution": {
     "iopub.execute_input": "2023-04-21T17:40:21.701071Z",
     "iopub.status.busy": "2023-04-21T17:40:21.700444Z",
     "iopub.status.idle": "2023-04-21T17:40:21.705423Z",
     "shell.execute_reply": "2023-04-21T17:40:21.704326Z"
    },
    "papermill": {
     "duration": 0.014499,
     "end_time": "2023-04-21T17:40:21.708036",
     "exception": false,
     "start_time": "2023-04-21T17:40:21.693537",
     "status": "completed"
    },
    "tags": []
   },
   "outputs": [],
   "source": [
    "x = data.YearsExperience.values.reshape(-1,1)\n",
    "y = data.Salary.values.reshape(-1,1)"
   ]
  },
  {
   "cell_type": "code",
   "execution_count": 7,
   "id": "736c4c10",
   "metadata": {
    "execution": {
     "iopub.execute_input": "2023-04-21T17:40:21.720972Z",
     "iopub.status.busy": "2023-04-21T17:40:21.720332Z",
     "iopub.status.idle": "2023-04-21T17:40:21.736627Z",
     "shell.execute_reply": "2023-04-21T17:40:21.735217Z"
    },
    "papermill": {
     "duration": 0.025907,
     "end_time": "2023-04-21T17:40:21.739285",
     "exception": false,
     "start_time": "2023-04-21T17:40:21.713378",
     "status": "completed"
    },
    "tags": []
   },
   "outputs": [
    {
     "data": {
      "text/plain": [
       "LinearRegression()"
      ]
     },
     "execution_count": 7,
     "metadata": {},
     "output_type": "execute_result"
    }
   ],
   "source": [
    "linear_reg = LinearRegression()\n",
    "linear_reg.fit(x,y)  "
   ]
  },
  {
   "cell_type": "code",
   "execution_count": 8,
   "id": "3efe3fc4",
   "metadata": {
    "execution": {
     "iopub.execute_input": "2023-04-21T17:40:21.752677Z",
     "iopub.status.busy": "2023-04-21T17:40:21.751741Z",
     "iopub.status.idle": "2023-04-21T17:40:21.758400Z",
     "shell.execute_reply": "2023-04-21T17:40:21.757123Z"
    },
    "papermill": {
     "duration": 0.01674,
     "end_time": "2023-04-21T17:40:21.761617",
     "exception": false,
     "start_time": "2023-04-21T17:40:21.744877",
     "status": "completed"
    },
    "tags": []
   },
   "outputs": [
    {
     "name": "stdout",
     "output_type": "stream",
     "text": [
      "b0:  [24848.20396652]\n"
     ]
    }
   ],
   "source": [
    "b0_ = linear_reg.intercept_\n",
    "print(\"b0: \",b0_)   "
   ]
  },
  {
   "cell_type": "code",
   "execution_count": 9,
   "id": "251c4afd",
   "metadata": {
    "execution": {
     "iopub.execute_input": "2023-04-21T17:40:21.775157Z",
     "iopub.status.busy": "2023-04-21T17:40:21.774311Z",
     "iopub.status.idle": "2023-04-21T17:40:21.780711Z",
     "shell.execute_reply": "2023-04-21T17:40:21.779484Z"
    },
    "papermill": {
     "duration": 0.016006,
     "end_time": "2023-04-21T17:40:21.783250",
     "exception": false,
     "start_time": "2023-04-21T17:40:21.767244",
     "status": "completed"
    },
    "tags": []
   },
   "outputs": [
    {
     "name": "stdout",
     "output_type": "stream",
     "text": [
      "b1:  [[9449.96232146]]\n"
     ]
    }
   ],
   "source": [
    "b1 = linear_reg.coef_  #b1'in diğer adı coefficient'tır. coef methoduyla b1 değeri bulunur.\n",
    "print(\"b1: \",b1)  "
   ]
  },
  {
   "cell_type": "markdown",
   "id": "ec8a37ec",
   "metadata": {
    "papermill": {
     "duration": 0.005336,
     "end_time": "2023-04-21T17:40:21.794253",
     "exception": false,
     "start_time": "2023-04-21T17:40:21.788917",
     "status": "completed"
    },
    "tags": []
   },
   "source": [
    "y=bo+b1*x      ---->   y=Salary , x=YearsExperience"
   ]
  },
  {
   "cell_type": "code",
   "execution_count": 10,
   "id": "287e109e",
   "metadata": {
    "execution": {
     "iopub.execute_input": "2023-04-21T17:40:21.807662Z",
     "iopub.status.busy": "2023-04-21T17:40:21.806985Z",
     "iopub.status.idle": "2023-04-21T17:40:21.813969Z",
     "shell.execute_reply": "2023-04-21T17:40:21.812647Z"
    },
    "papermill": {
     "duration": 0.017651,
     "end_time": "2023-04-21T17:40:21.817503",
     "exception": false,
     "start_time": "2023-04-21T17:40:21.799852",
     "status": "completed"
    },
    "tags": []
   },
   "outputs": [
    {
     "name": "stdout",
     "output_type": "stream",
     "text": [
      "128787\n",
      "b11:  [[128797.78950253]]\n"
     ]
    }
   ],
   "source": [
    "new_salary = 24848 + 9449*11 #The salary of someone with 11 years of experience is calculated according to the linear regression equation.\n",
    "print(new_salary)\n",
    "\n",
    "b11 = linear_reg.predict([[11]])  #predict method\n",
    "print(\"b11: \",b11)"
   ]
  },
  {
   "cell_type": "code",
   "execution_count": 11,
   "id": "f090595f",
   "metadata": {
    "execution": {
     "iopub.execute_input": "2023-04-21T17:40:21.835854Z",
     "iopub.status.busy": "2023-04-21T17:40:21.834923Z",
     "iopub.status.idle": "2023-04-21T17:40:22.009181Z",
     "shell.execute_reply": "2023-04-21T17:40:22.008288Z"
    },
    "papermill": {
     "duration": 0.186692,
     "end_time": "2023-04-21T17:40:22.011498",
     "exception": false,
     "start_time": "2023-04-21T17:40:21.824806",
     "status": "completed"
    },
    "tags": []
   },
   "outputs": [
    {
     "data": {
      "image/png": "[encoded data removed]",
      "text/plain": [
       "<Figure size 640x480 with 1 Axes>"
      ]
     },
     "metadata": {},
     "output_type": "display_data"
    }
   ],
   "source": [
    "y_head = linear_reg.predict(x)\n",
    "plt.plot(x, y_head, color=\"red\")\n",
    "plt.scatter(x,y)\n",
    "plt.show()"
   ]
  },
  {
   "cell_type": "code",
   "execution_count": 12,
   "id": "5c1a2e54",
   "metadata": {
    "execution": {
     "iopub.execute_input": "2023-04-21T17:40:22.026228Z",
     "iopub.status.busy": "2023-04-21T17:40:22.025247Z",
     "iopub.status.idle": "2023-04-21T17:40:22.032156Z",
     "shell.execute_reply": "2023-04-21T17:40:22.030782Z"
    },
    "papermill": {
     "duration": 0.016984,
     "end_time": "2023-04-21T17:40:22.034889",
     "exception": false,
     "start_time": "2023-04-21T17:40:22.017905",
     "status": "completed"
    },
    "tags": []
   },
   "outputs": [
    {
     "name": "stdout",
     "output_type": "stream",
     "text": [
      "R Square Score:  0.9569566641435086\n"
     ]
    }
   ],
   "source": [
    "print(\"R Square Score: \",r2_score(y,y_head))"
   ]
  },
  {
   "cell_type": "code",
   "execution_count": 13,
   "id": "b26d7a2a",
   "metadata": {
    "execution": {
     "iopub.execute_input": "2023-04-21T17:40:22.049112Z",
     "iopub.status.busy": "2023-04-21T17:40:22.048358Z",
     "iopub.status.idle": "2023-04-21T17:40:22.054276Z",
     "shell.execute_reply": "2023-04-21T17:40:22.053157Z"
    },
    "papermill": {
     "duration": 0.015858,
     "end_time": "2023-04-21T17:40:22.056856",
     "exception": false,
     "start_time": "2023-04-21T17:40:22.040998",
     "status": "completed"
    },
    "tags": []
   },
   "outputs": [
    {
     "name": "stdout",
     "output_type": "stream",
     "text": [
      "Mean Squared Error:  31270951.722280953\n"
     ]
    }
   ],
   "source": [
    "from sklearn.metrics import mean_squared_error\n",
    "print(\"Mean Squared Error: \",mean_squared_error(y,y_head))"
   ]
  },
  {
   "cell_type": "code",
   "execution_count": 14,
   "id": "e8869693",
   "metadata": {
    "execution": {
     "iopub.execute_input": "2023-04-21T17:40:22.071584Z",
     "iopub.status.busy": "2023-04-21T17:40:22.070495Z",
     "iopub.status.idle": "2023-04-21T17:40:22.076275Z",
     "shell.execute_reply": "2023-04-21T17:40:22.075265Z"
    },
    "papermill": {
     "duration": 0.015551,
     "end_time": "2023-04-21T17:40:22.078589",
     "exception": false,
     "start_time": "2023-04-21T17:40:22.063038",
     "status": "completed"
    },
    "tags": []
   },
   "outputs": [
    {
     "name": "stdout",
     "output_type": "stream",
     "text": [
      "Mean Squared Error:  31270951.722280953\n"
     ]
    }
   ],
   "source": [
    "MSE = np.square(np.subtract(y,y_head)).mean()\n",
    "print(\"Mean Squared Error: \",MSE)"
   ]
  }
 ],
 "metadata": {
  "kernelspec": {
   "display_name": "Python 3",
   "language": "python",
   "name": "python3"
  },
  "language_info": {
   "codemirror_mode": {
    "name": "ipython",
    "version": 3
   },
   "file_extension": ".py",
   "mimetype": "text/x-python",
   "name": "python",
   "nbconvert_exporter": "python",
   "pygments_lexer": "ipython3",
   "version": "3.7.12"
  },
  "papermill": {
   "default_parameters": {},
   "duration": 12.190089,
   "end_time": "2023-04-21T17:40:22.806573",
   "environment_variables": {},
   "exception": null,
   "input_path": "__notebook__.ipynb",
   "output_path": "__notebook__.ipynb",
   "parameters": {},
   "start_time": "2023-04-21T17:40:10.616484",
   "version": "2.4.0"
  }
 },
 "nbformat": 4,
 "nbformat_minor": 5
}
