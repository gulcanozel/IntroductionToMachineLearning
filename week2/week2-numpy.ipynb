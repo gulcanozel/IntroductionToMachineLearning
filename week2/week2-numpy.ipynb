{
 "cells": [
  {
   "cell_type": "markdown",
   "id": "edb4dbc9",
   "metadata": {},
   "source": [
    "**NumPy**"
   ]
  },
  {
   "cell_type": "code",
   "execution_count": 1,
   "id": "6992d9c1",
   "metadata": {},
   "outputs": [],
   "source": [
    "import numpy as np #Çok boyutlu dizilerle ve matrislerle çalışmamızı sağlayan kütüphanedir."
   ]
  },
  {
   "cell_type": "code",
   "execution_count": 2,
   "id": "9e53b20a",
   "metadata": {},
   "outputs": [
    {
     "name": "stdout",
     "output_type": "stream",
     "text": [
      "(15,)\n",
      "(2, 3)\n"
     ]
    }
   ],
   "source": [
    "array = np.array([1,2,3,4,5,6,7,8,9,10,11,12,13,14,15]) #1x15 lik vektör\n",
    "array2 = np.array([[1,2,3],[4,5,6]]) #2x3 matris\n",
    "\n",
    "print(array.shape) #array'ın shape'ine bakılır. #(15,) -> 15e 1lik vektör\n",
    "print(array2.shape) #(2,3) ->2ye 3lük matris\n"
   ]
  },
  {
   "cell_type": "code",
   "execution_count": 3,
   "id": "eda2d429",
   "metadata": {},
   "outputs": [
    {
     "name": "stdout",
     "output_type": "stream",
     "text": [
      "[[ 1  2  3  4  5]\n",
      " [ 6  7  8  9 10]\n",
      " [11 12 13 14 15]]\n"
     ]
    }
   ],
   "source": [
    "newArray = array.reshape(3,5) #oluşturulan 15'e 1'lik vektör 3'e 5'lik matrise dönüştürüldü\n",
    "print(newArray)"
   ]
  },
  {
   "cell_type": "code",
   "execution_count": 8,
   "id": "809fa19f",
   "metadata": {},
   "outputs": [
    {
     "name": "stdout",
     "output_type": "stream",
     "text": [
      "shape:  (3, 5)\n",
      "dimension:  2\n",
      "data type:  int32\n",
      "size:  15\n",
      "type <class 'numpy.ndarray'>\n"
     ]
    }
   ],
   "source": [
    "print(\"shape: \",newArray.shape) #(3, 5)\n",
    "print(\"dimension: \",newArray.ndim) #oluşturulan matrisin boyutuna bakılır.\n",
    "print(\"data type: \",newArray.dtype.name) #data type:  int32\n",
    "#array'in içindeki verilerin datatype'larını öğrenmek için (float,string,integer) bu method kullanılır\n",
    "print(\"size: \",newArray.size) #reshape'ten önceki boyutu verilir.(size:  15)                    \n",
    "print(\"type\",type(newArray))  #type <class 'numpy.ndarray'>"
   ]
  },
  {
   "cell_type": "code",
   "execution_count": 9,
   "id": "d583d722",
   "metadata": {},
   "outputs": [
    {
     "name": "stdout",
     "output_type": "stream",
     "text": [
      "[[0. 0. 0.]\n",
      " [0. 0. 0.]\n",
      " [0. 0. 0.]\n",
      " [0. 0. 0.]]\n"
     ]
    }
   ],
   "source": [
    "zeros = np.zeros((4,3))#4 satır 3 sütunluk 0'lardan oluşan array yaratılır.\n",
    "#bu matris ile memoryde yer ayırtılır, güncelleme yapılmak istendiğinde güncellenir.\n",
    "print(zeros)"
   ]
  },
  {
   "cell_type": "code",
   "execution_count": 10,
   "id": "a95e227b",
   "metadata": {},
   "outputs": [
    {
     "data": {
      "text/plain": [
       "array([[1., 1., 1.],\n",
       "       [1., 1., 1.],\n",
       "       [1., 1., 1.],\n",
       "       [1., 1., 1.]])"
      ]
     },
     "execution_count": 10,
     "metadata": {},
     "output_type": "execute_result"
    }
   ],
   "source": [
    "np.ones((4,3)) # 1'lerden oluşan 4x3'lük bir matris yaratır."
   ]
  },
  {
   "cell_type": "code",
   "execution_count": 14,
   "id": "7c274b4f",
   "metadata": {},
   "outputs": [
    {
     "name": "stdout",
     "output_type": "stream",
     "text": [
      "[[0.  0.  0.3 1.  0. ]\n",
      " [0.  1.  1.  1.  1. ]\n",
      " [1.  1.  1.  0.  0. ]\n",
      " [1.  0.5 0.  0.  1. ]]\n"
     ]
    }
   ],
   "source": [
    "arr=np.empty((4,5)) #boş bir array oluşturulur.\n",
    "print(arr)"
   ]
  },
  {
   "cell_type": "code",
   "execution_count": 17,
   "id": "ab02b133",
   "metadata": {},
   "outputs": [
    {
     "data": {
      "text/plain": [
       "array([ 3,  6,  9, 12, 15, 18, 21, 24])"
      ]
     },
     "execution_count": 17,
     "metadata": {},
     "output_type": "execute_result"
    }
   ],
   "source": [
    "np.arange(3,25,3) #3den başlayıp 21de bitecek şekilde üçer üçer artan array oluşturur"
   ]
  },
  {
   "cell_type": "code",
   "execution_count": 20,
   "id": "7a29e9cc",
   "metadata": {},
   "outputs": [
    {
     "data": {
      "text/plain": [
       "array([0.        , 0.55555556, 1.11111111, 1.66666667, 2.22222222,\n",
       "       2.77777778, 3.33333333, 3.88888889, 4.44444444, 5.        ])"
      ]
     },
     "execution_count": 20,
     "metadata": {},
     "output_type": "execute_result"
    }
   ],
   "source": [
    "a = np.linspace(0,5,10) #0 ile 5 arasında 10 tane sayı yazdırır\n",
    "a"
   ]
  },
  {
   "cell_type": "code",
   "execution_count": 21,
   "id": "c1ce7930",
   "metadata": {},
   "outputs": [
    {
     "name": "stdout",
     "output_type": "stream",
     "text": [
      "[ 5 10 15]\n",
      "[-1 -2 -3]\n",
      "[ 4 16 36]\n"
     ]
    }
   ],
   "source": [
    "#NUMPY BASIC OPERATIONS\n",
    "a=np.array([2,4,6])\n",
    "b=np.array([3,6,9])\n",
    "\n",
    "print(a+b) #[5 10 15]\n",
    "print(a-b) #[-1 -2 -3]\n",
    "print(a**2) #[4 16 36]"
   ]
  },
  {
   "cell_type": "code",
   "execution_count": 24,
   "id": "4fae374a",
   "metadata": {},
   "outputs": [
    {
     "name": "stdout",
     "output_type": "stream",
     "text": [
      "[1, 2, 3, 4]\n",
      "[5 6 7 8]\n"
     ]
    }
   ],
   "source": [
    "liste = [1,2,3,4]\n",
    "arr = np.array([5,6,7,8]) #array tanımlamak için array'in içine liste yazılır.\n",
    "print(liste) #liste virgülle ayrılır ->[1, 2, 3, 4]\n",
    "print(arr)   #array virgülle ayrılmaz ->[5 6 7 8]"
   ]
  },
  {
   "cell_type": "code",
   "execution_count": 25,
   "id": "8b599273",
   "metadata": {},
   "outputs": [
    {
     "name": "stdout",
     "output_type": "stream",
     "text": [
      "[1 2 3 4]\n",
      "[1, 2, 3, 4]\n"
     ]
    }
   ],
   "source": [
    "array = np.array(liste)#listeden array geçilir\n",
    "print(array)\n",
    "\n",
    "liste2 = list(array) #arrayden listeye geçilir.\n",
    "print(liste2)"
   ]
  },
  {
   "cell_type": "code",
   "execution_count": 26,
   "id": "e46e4ea4",
   "metadata": {},
   "outputs": [
    {
     "data": {
      "text/plain": [
       "array([1, 2, 3])"
      ]
     },
     "execution_count": 26,
     "metadata": {},
     "output_type": "execute_result"
    }
   ],
   "source": [
    "a = np.array([1,2,3])\n",
    "a"
   ]
  },
  {
   "cell_type": "code",
   "execution_count": 28,
   "id": "a77ea826",
   "metadata": {},
   "outputs": [
    {
     "name": "stdout",
     "output_type": "stream",
     "text": [
      "[5 2 3] [5 2 3] [5 2 3]\n"
     ]
    }
   ],
   "source": [
    "arr1=a\n",
    "arr2=a\n",
    "arr1[0]=5 #bu örnekte a,b,c arraylerinin hepsinin 0. indeksi değişir.\n",
    "#bunun sebebi np.array memory'de bir değer olarak değil bir alan olarak depolanır.\n",
    "#a,b,c için memory aynı alan ayrıldığından bir tanesi değiştirilince hepsi değişir.\n",
    "\n",
    "print(a,arr1,arr2)"
   ]
  },
  {
   "cell_type": "code",
   "execution_count": 35,
   "id": "3fe12c52",
   "metadata": {},
   "outputs": [
    {
     "name": "stdout",
     "output_type": "stream",
     "text": [
      "[1 2 3]\n",
      "[1 2 3]\n"
     ]
    }
   ],
   "source": [
    "a = np.array([1,2,3])\n",
    "arrCopy = a.copy() #copy methoduyla memory yeni bir alan tahsis edilir.\n",
    "                   #böylelikle birinin bir indeksi değişince diğerleri bundan etkilenmez.\n",
    "print(arrCopy) # --> [1 2 3]\n",
    "\n",
    "a[0]=7\n",
    "print(arrCopy) # --> a array'inde yapılan değişiklik arrCopy array'ini etkilemez\n",
    "               # --> [1 2 3]"
   ]
  },
  {
   "cell_type": "code",
   "execution_count": 36,
   "id": "7b69e078",
   "metadata": {},
   "outputs": [
    {
     "name": "stdout",
     "output_type": "stream",
     "text": [
      "[1 2 3]\n"
     ]
    }
   ],
   "source": [
    "array= np.array([1,2,3,4,5,6,7])\n",
    "print(array[0:3]) #ilk 3 indeksi yazdırır."
   ]
  },
  {
   "cell_type": "code",
   "execution_count": 37,
   "id": "85d2752a",
   "metadata": {},
   "outputs": [
    {
     "name": "stdout",
     "output_type": "stream",
     "text": [
      "[[1 2 3]\n",
      " [4 5 6]\n",
      " [7 8 9]]\n"
     ]
    }
   ],
   "source": [
    "array = np.array([[1,2,3],[4,5,6],[7,8,9]]) #3x3'lük array oluşturuldu.\n",
    "print(array)"
   ]
  },
  {
   "cell_type": "code",
   "execution_count": 38,
   "id": "3f961e99",
   "metadata": {},
   "outputs": [
    {
     "name": "stdout",
     "output_type": "stream",
     "text": [
      "[1 2 3 4 5 6 7 8 9]\n"
     ]
    }
   ],
   "source": [
    "a = array.ravel() #ravel methoduyla tek boyutlu hale getirilir.\n",
    "print(a)"
   ]
  },
  {
   "cell_type": "code",
   "execution_count": 39,
   "id": "1a1f84f8",
   "metadata": {},
   "outputs": [
    {
     "name": "stdout",
     "output_type": "stream",
     "text": [
      "[[1 2 3]\n",
      " [4 5 6]\n",
      " [7 8 9]]\n"
     ]
    }
   ],
   "source": [
    "array2 = a.reshape(3,3) #tekrardan 3x3'lük array haline getirildi.\n",
    "                        #reshape ile yapılan değişimler kalıcı değildir. yapılan değişim başka bir değişkene kaydedilmelidir.\n",
    "print(array2"
   ]
  },
  {
   "cell_type": "code",
   "execution_count": 40,
   "id": "4251bf17",
   "metadata": {},
   "outputs": [
    {
     "name": "stdout",
     "output_type": "stream",
     "text": [
      "[[1 4 7]\n",
      " [2 5 8]\n",
      " [3 6 9]]\n"
     ]
    }
   ],
   "source": [
    "array_transpose = array2.T #array'in transpose'u alınır.\n",
    "print(array_transpose)"
   ]
  },
  {
   "cell_type": "code",
   "execution_count": 41,
   "id": "2a24db98",
   "metadata": {},
   "outputs": [
    {
     "data": {
      "text/plain": [
       "array([[1, 2],\n",
       "       [3, 4],\n",
       "       [4, 5]])"
      ]
     },
     "execution_count": 41,
     "metadata": {},
     "output_type": "execute_result"
    }
   ],
   "source": [
    "array1=np.array([[1,2],[3,4],[4,5]])\n",
    "array1"
   ]
  },
  {
   "cell_type": "code",
   "execution_count": 46,
   "id": "795ac701",
   "metadata": {},
   "outputs": [
    {
     "name": "stdout",
     "output_type": "stream",
     "text": [
      "[[1 2 3]\n",
      " [4 4 5]]\n"
     ]
    }
   ],
   "source": [
    "array1.resize((2,3)) #resize ile yapılan boyut değişimleri kalıcıdır, aynı array'in içine kaydeder.\n",
    "print(array1)"
   ]
  }
 ],
 "metadata": {
  "kernelspec": {
   "display_name": "Python 3 (ipykernel)",
   "language": "python",
   "name": "python3"
  },
  "language_info": {
   "codemirror_mode": {
    "name": "ipython",
    "version": 3
   },
   "file_extension": ".py",
   "mimetype": "text/x-python",
   "name": "python",
   "nbconvert_exporter": "python",
   "pygments_lexer": "ipython3",
   "version": "3.11.2"
  }
 },
 "nbformat": 4,
 "nbformat_minor": 5
}
