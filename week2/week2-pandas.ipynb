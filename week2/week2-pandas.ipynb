{
 "cells": [
  {
   "cell_type": "markdown",
   "id": "3c9af0db",
   "metadata": {},
   "source": [
    "**Pandas**"
   ]
  },
  {
   "cell_type": "code",
   "execution_count": 1,
   "id": "e9d01312",
   "metadata": {},
   "outputs": [],
   "source": [
    "import pandas as pd #Veri işlemesi ve ver analizi için kullanılan kütüphanedir."
   ]
  },
  {
   "cell_type": "code",
   "execution_count": 4,
   "id": "ffb90f11",
   "metadata": {},
   "outputs": [
    {
     "name": "stdout",
     "output_type": "stream",
     "text": [
      "     name   age     note\n",
      "0  Gülcan  24.0    123.0\n",
      "1    Ebru  21.0    456.0\n",
      "2   Hasan  29.0     78.0\n",
      "3   Ahmet  25.0  87654.0\n",
      "4   Zehra   NaN      NaN\n",
      "5   Yeliz  26.0     89.0\n",
      "6  Mehmet  22.0     99.0\n"
     ]
    }
   ],
   "source": [
    "dictionary = {\"name\":[\"Gülcan\",\"Ebru\",\"Hasan\",\"Ahmet\",\"Zehra\",\"Yeliz\",\"Mehmet\"],\n",
    "             \"age\":[24,21,29,25,None,26,22],\n",
    "             \"note\":[123,456,78,87654,None,89,99]}\n",
    "\n",
    "dataframe1 = pd.DataFrame(dictionary) \n",
    "print(dataframe1)"
   ]
  },
  {
   "cell_type": "code",
   "execution_count": 5,
   "id": "f1f33bab",
   "metadata": {},
   "outputs": [
    {
     "name": "stdout",
     "output_type": "stream",
     "text": [
      "     name   age     note\n",
      "0  Gülcan  24.0    123.0\n",
      "1    Ebru  21.0    456.0\n",
      "2   Hasan  29.0     78.0\n",
      "3   Ahmet  25.0  87654.0\n",
      "4   Zehra   NaN      NaN\n"
     ]
    }
   ],
   "source": [
    "head = dataframe1.head() #verinin içindeki ilk beş değeri getirir (default olarak 5 )\n",
    "print(head)\n",
    "\n",
    "#Bu işlemi bir datayı import ettiğimizde datanın içeriğine kısaca bakmak için kullanabiliriz"
   ]
  },
  {
   "cell_type": "code",
   "execution_count": 6,
   "id": "6692216d",
   "metadata": {},
   "outputs": [
    {
     "name": "stdout",
     "output_type": "stream",
     "text": [
      "     name   age     note\n",
      "2   Hasan  29.0     78.0\n",
      "3   Ahmet  25.0  87654.0\n",
      "4   Zehra   NaN      NaN\n",
      "5   Yeliz  26.0     89.0\n",
      "6  Mehmet  22.0     99.0\n"
     ]
    }
   ],
   "source": [
    "tail = dataframe1.tail()  #head ile aynı işlevdedir sadece baştan değil sondan 5 satırı verir(default olarak 5)\n",
    "print(tail)"
   ]
  },
  {
   "cell_type": "code",
   "execution_count": 7,
   "id": "a69a55ca",
   "metadata": {},
   "outputs": [
    {
     "name": "stdout",
     "output_type": "stream",
     "text": [
      "Index(['name', 'age', 'note'], dtype='object')\n"
     ]
    }
   ],
   "source": [
    "##Pandas Basic Method\n",
    "\n",
    "print(dataframe1.columns) # sutunlarin isimlerini verir"
   ]
  },
  {
   "cell_type": "code",
   "execution_count": 8,
   "id": "209268ab",
   "metadata": {},
   "outputs": [
    {
     "name": "stdout",
     "output_type": "stream",
     "text": [
      "<class 'pandas.core.frame.DataFrame'>\n",
      "RangeIndex: 7 entries, 0 to 6\n",
      "Data columns (total 3 columns):\n",
      " #   Column  Non-Null Count  Dtype  \n",
      "---  ------  --------------  -----  \n",
      " 0   name    7 non-null      object \n",
      " 1   age     6 non-null      float64\n",
      " 2   note    6 non-null      float64\n",
      "dtypes: float64(2), object(1)\n",
      "memory usage: 300.0+ bytes\n",
      "None\n"
     ]
    }
   ],
   "source": [
    "print(dataframe1.info()) #dataframe hakkında bilgi verir"
   ]
  },
  {
   "cell_type": "code",
   "execution_count": 9,
   "id": "e3d36bb5",
   "metadata": {},
   "outputs": [
    {
     "name": "stdout",
     "output_type": "stream",
     "text": [
      "name     object\n",
      "age     float64\n",
      "note    float64\n",
      "dtype: object\n"
     ]
    }
   ],
   "source": [
    "print(dataframe1.dtypes) #dataframe'in her bir column'ın type'ını verir"
   ]
  },
  {
   "cell_type": "code",
   "execution_count": 10,
   "id": "1e5745fc",
   "metadata": {},
   "outputs": [
    {
     "name": "stdout",
     "output_type": "stream",
     "text": [
      "             age          note\n",
      "count   6.000000      6.000000\n",
      "mean   24.500000  14749.833333\n",
      "std     2.880972  35715.893064\n",
      "min    21.000000     78.000000\n",
      "25%    22.500000     91.500000\n",
      "50%    24.500000    111.000000\n",
      "75%    25.750000    372.750000\n",
      "max    29.000000  87654.000000\n"
     ]
    }
   ],
   "source": [
    "print(dataframe1.describe()) #age ve note future'larını verir fakat name future'ını vermez çünkü name nümerik değil. \n",
    "#Describe sadece nümerik future'larını verir bu tabloda ise data future değerlerinin ortalamalrı min max ları medyan değerleri vb verir."
   ]
  },
  {
   "cell_type": "code",
   "execution_count": 15,
   "id": "2c39e2b0",
   "metadata": {},
   "outputs": [
    {
     "name": "stdout",
     "output_type": "stream",
     "text": [
      "0    Gülcan\n",
      "1      Ebru\n",
      "2     Hasan\n",
      "3     Ahmet\n",
      "4     Zehra\n",
      "5     Yeliz\n",
      "6    Mehmet\n",
      "Name: name, dtype: object\n",
      "0    24.0\n",
      "1    21.0\n",
      "2    29.0\n",
      "3    25.0\n",
      "4     NaN\n",
      "5    26.0\n",
      "6    22.0\n",
      "Name: age, dtype: float64\n",
      "     name   age     note\n",
      "6  Mehmet  22.0     99.0\n",
      "5   Yeliz  26.0     89.0\n",
      "4   Zehra   NaN      NaN\n",
      "3   Ahmet  25.0  87654.0\n",
      "2   Hasan  29.0     78.0\n",
      "1    Ebru  21.0    456.0\n",
      "0  Gülcan  24.0    123.0\n"
     ]
    }
   ],
   "source": [
    "##Indexing And Slicing\n",
    "\n",
    "print(dataframe1[\"name\"]) #sadece isimleri yazar.\n",
    "print(dataframe1.loc[:,\"age\"]) #age sütununun tüm satırlarını getirir\n",
    "print(dataframe1.loc[::-1]) #indexleri tersten yazdırır."
   ]
  },
  {
   "cell_type": "code",
   "execution_count": 21,
   "id": "cab394c8",
   "metadata": {},
   "outputs": [
    {
     "name": "stdout",
     "output_type": "stream",
     "text": [
      "    age   bool\n",
      "0  24.0   True\n",
      "1  21.0  False\n",
      "2  29.0   True\n",
      "3  25.0   True\n",
      "4   NaN  False\n",
      "5  26.0   True\n",
      "6  22.0   True\n"
     ]
    }
   ],
   "source": [
    "##Filtering Pandas Data Frame\n",
    "\n",
    "filtre = dataframe1.age>21                           #yaşı 21'den büyük olanlar filtrelendi\n",
    "dataframe1[\"bool\"]= filtre\n",
    "print(dataframe1.loc[:,[\"age\",\"bool\"]])"
   ]
  },
  {
   "cell_type": "code",
   "execution_count": 22,
   "id": "d4f7d193",
   "metadata": {},
   "outputs": [
    {
     "data": {
      "text/plain": [
       "pandas.core.series.Series"
      ]
     },
     "execution_count": 22,
     "metadata": {},
     "output_type": "execute_result"
    }
   ],
   "source": [
    "type(filtre) #nupmy'da vektör denilirken pandas'da ise tipine series deniliyor. Serilerin birleşimine ise dataframe denir."
   ]
  },
  {
   "cell_type": "code",
   "execution_count": 23,
   "id": "d1d0c87c",
   "metadata": {},
   "outputs": [
    {
     "name": "stdout",
     "output_type": "stream",
     "text": [
      "     name   age     note  bool\n",
      "0  Gülcan  24.0    123.0  True\n",
      "2   Hasan  29.0     78.0  True\n",
      "3   Ahmet  25.0  87654.0  True\n",
      "5   Yeliz  26.0     89.0  True\n",
      "6  Mehmet  22.0     99.0  True\n"
     ]
    }
   ],
   "source": [
    "filtrelenmis_data= dataframe1[filtre] #dataframe'i filtrelemiş olduk, sadece koşulu sağlayan indeksler yazıldı\n",
    "print(filtrelenmis_data)"
   ]
  },
  {
   "cell_type": "code",
   "execution_count": 24,
   "id": "f17f2c6b",
   "metadata": {},
   "outputs": [
    {
     "name": "stdout",
     "output_type": "stream",
     "text": [
      "     name   age     note  bool\n",
      "0  Gülcan  24.0    123.0  True\n",
      "3   Ahmet  25.0  87654.0  True\n",
      "6  Mehmet  22.0     99.0  True\n"
     ]
    }
   ],
   "source": [
    "filtre2 = dataframe1.note>90\n",
    "filtrelenmis_data2 = dataframe1[filtre2&filtre] #iki filtre birden uyguladık\n",
    "print(filtrelenmis_data2)"
   ]
  },
  {
   "cell_type": "code",
   "execution_count": 25,
   "id": "72d8049d",
   "metadata": {},
   "outputs": [
    {
     "data": {
      "text/html": [
       "<div>\n",
       "<style scoped>\n",
       "    .dataframe tbody tr th:only-of-type {\n",
       "        vertical-align: middle;\n",
       "    }\n",
       "\n",
       "    .dataframe tbody tr th {\n",
       "        vertical-align: top;\n",
       "    }\n",
       "\n",
       "    .dataframe thead th {\n",
       "        text-align: right;\n",
       "    }\n",
       "</style>\n",
       "<table border=\"1\" class=\"dataframe\">\n",
       "  <thead>\n",
       "    <tr style=\"text-align: right;\">\n",
       "      <th></th>\n",
       "      <th>name</th>\n",
       "      <th>age</th>\n",
       "      <th>note</th>\n",
       "      <th>bool</th>\n",
       "    </tr>\n",
       "  </thead>\n",
       "  <tbody>\n",
       "    <tr>\n",
       "      <th>2</th>\n",
       "      <td>Hasan</td>\n",
       "      <td>29.0</td>\n",
       "      <td>78.0</td>\n",
       "      <td>True</td>\n",
       "    </tr>\n",
       "    <tr>\n",
       "      <th>3</th>\n",
       "      <td>Ahmet</td>\n",
       "      <td>25.0</td>\n",
       "      <td>87654.0</td>\n",
       "      <td>True</td>\n",
       "    </tr>\n",
       "    <tr>\n",
       "      <th>5</th>\n",
       "      <td>Yeliz</td>\n",
       "      <td>26.0</td>\n",
       "      <td>89.0</td>\n",
       "      <td>True</td>\n",
       "    </tr>\n",
       "  </tbody>\n",
       "</table>\n",
       "</div>"
      ],
      "text/plain": [
       "    name   age     note  bool\n",
       "2  Hasan  29.0     78.0  True\n",
       "3  Ahmet  25.0  87654.0  True\n",
       "5  Yeliz  26.0     89.0  True"
      ]
     },
     "execution_count": 25,
     "metadata": {},
     "output_type": "execute_result"
    }
   ],
   "source": [
    "dataframe1[dataframe1.age>24] #bu şekildede filtreleme uygulayabiliriz"
   ]
  },
  {
   "cell_type": "code",
   "execution_count": 26,
   "id": "d816a916",
   "metadata": {},
   "outputs": [
    {
     "name": "stdout",
     "output_type": "stream",
     "text": [
      "14749.833333333334\n",
      "14749.833333333334\n"
     ]
    }
   ],
   "source": [
    "##List Comprehension\n",
    "\n",
    "import numpy as np\n",
    "ortalama = dataframe1.note.mean() #pandas ile ortalama bulma \n",
    "print(ortalama)\n",
    "ortlama_np= np.mean(dataframe1.note) #numpy ile ortalama bulma\n",
    "print(ortlama_np)"
   ]
  },
  {
   "cell_type": "code",
   "execution_count": 27,
   "id": "3285eb89",
   "metadata": {},
   "outputs": [
    {
     "data": {
      "text/html": [
       "<div>\n",
       "<style scoped>\n",
       "    .dataframe tbody tr th:only-of-type {\n",
       "        vertical-align: middle;\n",
       "    }\n",
       "\n",
       "    .dataframe tbody tr th {\n",
       "        vertical-align: top;\n",
       "    }\n",
       "\n",
       "    .dataframe thead th {\n",
       "        text-align: right;\n",
       "    }\n",
       "</style>\n",
       "<table border=\"1\" class=\"dataframe\">\n",
       "  <thead>\n",
       "    <tr style=\"text-align: right;\">\n",
       "      <th></th>\n",
       "      <th>name</th>\n",
       "      <th>age</th>\n",
       "      <th>note</th>\n",
       "      <th>bool</th>\n",
       "    </tr>\n",
       "  </thead>\n",
       "  <tbody>\n",
       "    <tr>\n",
       "      <th>0</th>\n",
       "      <td>Gülcan</td>\n",
       "      <td>24.0</td>\n",
       "      <td>123.0</td>\n",
       "      <td>True</td>\n",
       "    </tr>\n",
       "    <tr>\n",
       "      <th>1</th>\n",
       "      <td>Ebru</td>\n",
       "      <td>21.0</td>\n",
       "      <td>456.0</td>\n",
       "      <td>False</td>\n",
       "    </tr>\n",
       "    <tr>\n",
       "      <th>2</th>\n",
       "      <td>Hasan</td>\n",
       "      <td>29.0</td>\n",
       "      <td>78.0</td>\n",
       "      <td>True</td>\n",
       "    </tr>\n",
       "    <tr>\n",
       "      <th>3</th>\n",
       "      <td>Ahmet</td>\n",
       "      <td>25.0</td>\n",
       "      <td>87654.0</td>\n",
       "      <td>True</td>\n",
       "    </tr>\n",
       "    <tr>\n",
       "      <th>5</th>\n",
       "      <td>Yeliz</td>\n",
       "      <td>26.0</td>\n",
       "      <td>89.0</td>\n",
       "      <td>True</td>\n",
       "    </tr>\n",
       "    <tr>\n",
       "      <th>6</th>\n",
       "      <td>Mehmet</td>\n",
       "      <td>22.0</td>\n",
       "      <td>99.0</td>\n",
       "      <td>True</td>\n",
       "    </tr>\n",
       "  </tbody>\n",
       "</table>\n",
       "</div>"
      ],
      "text/plain": [
       "     name   age     note   bool\n",
       "0  Gülcan  24.0    123.0   True\n",
       "1    Ebru  21.0    456.0  False\n",
       "2   Hasan  29.0     78.0   True\n",
       "3   Ahmet  25.0  87654.0   True\n",
       "5   Yeliz  26.0     89.0   True\n",
       "6  Mehmet  22.0     99.0   True"
      ]
     },
     "execution_count": 27,
     "metadata": {},
     "output_type": "execute_result"
    }
   ],
   "source": [
    "dataframe1.dropna(inplace=True) #dropna ile NaN değerleri sildik \n",
    "dataframe1\n",
    "#inplace=True parametresini vermezsek NaN değerleri tekrar gelecektir.\n",
    "#Bunun için pandas'ın inplace=True paramtresini kullanarak değişiklikleri kalıcı hale getirebiliriz."
   ]
  },
  {
   "cell_type": "code",
   "execution_count": 28,
   "id": "731d031e",
   "metadata": {},
   "outputs": [
    {
     "name": "stdout",
     "output_type": "stream",
     "text": [
      "14749.833333333334\n"
     ]
    },
    {
     "data": {
      "text/html": [
       "<div>\n",
       "<style scoped>\n",
       "    .dataframe tbody tr th:only-of-type {\n",
       "        vertical-align: middle;\n",
       "    }\n",
       "\n",
       "    .dataframe tbody tr th {\n",
       "        vertical-align: top;\n",
       "    }\n",
       "\n",
       "    .dataframe thead th {\n",
       "        text-align: right;\n",
       "    }\n",
       "</style>\n",
       "<table border=\"1\" class=\"dataframe\">\n",
       "  <thead>\n",
       "    <tr style=\"text-align: right;\">\n",
       "      <th></th>\n",
       "      <th>name</th>\n",
       "      <th>age</th>\n",
       "      <th>note</th>\n",
       "      <th>bool</th>\n",
       "      <th>ortalama</th>\n",
       "    </tr>\n",
       "  </thead>\n",
       "  <tbody>\n",
       "    <tr>\n",
       "      <th>0</th>\n",
       "      <td>Gülcan</td>\n",
       "      <td>24.0</td>\n",
       "      <td>123.0</td>\n",
       "      <td>True</td>\n",
       "      <td>ortalamanın altında</td>\n",
       "    </tr>\n",
       "    <tr>\n",
       "      <th>1</th>\n",
       "      <td>Ebru</td>\n",
       "      <td>21.0</td>\n",
       "      <td>456.0</td>\n",
       "      <td>False</td>\n",
       "      <td>ortalamanın altında</td>\n",
       "    </tr>\n",
       "    <tr>\n",
       "      <th>2</th>\n",
       "      <td>Hasan</td>\n",
       "      <td>29.0</td>\n",
       "      <td>78.0</td>\n",
       "      <td>True</td>\n",
       "      <td>ortalamanın altında</td>\n",
       "    </tr>\n",
       "    <tr>\n",
       "      <th>3</th>\n",
       "      <td>Ahmet</td>\n",
       "      <td>25.0</td>\n",
       "      <td>87654.0</td>\n",
       "      <td>True</td>\n",
       "      <td>ortalamanın üstünde</td>\n",
       "    </tr>\n",
       "    <tr>\n",
       "      <th>5</th>\n",
       "      <td>Yeliz</td>\n",
       "      <td>26.0</td>\n",
       "      <td>89.0</td>\n",
       "      <td>True</td>\n",
       "      <td>ortalamanın altında</td>\n",
       "    </tr>\n",
       "    <tr>\n",
       "      <th>6</th>\n",
       "      <td>Mehmet</td>\n",
       "      <td>22.0</td>\n",
       "      <td>99.0</td>\n",
       "      <td>True</td>\n",
       "      <td>ortalamanın altında</td>\n",
       "    </tr>\n",
       "  </tbody>\n",
       "</table>\n",
       "</div>"
      ],
      "text/plain": [
       "     name   age     note   bool             ortalama\n",
       "0  Gülcan  24.0    123.0   True  ortalamanın altında\n",
       "1    Ebru  21.0    456.0  False  ortalamanın altında\n",
       "2   Hasan  29.0     78.0   True  ortalamanın altında\n",
       "3   Ahmet  25.0  87654.0   True  ortalamanın üstünde\n",
       "5   Yeliz  26.0     89.0   True  ortalamanın altında\n",
       "6  Mehmet  22.0     99.0   True  ortalamanın altında"
      ]
     },
     "execution_count": 28,
     "metadata": {},
     "output_type": "execute_result"
    }
   ],
   "source": [
    "print(dataframe1.note.mean()) #ortalama not hesabı\n",
    "#ortalamaya bakarak üstünde vya altında olduğunu yazdırma\n",
    "dataframe1[\"ortalama\"]= [\"ortalamanın altında\" if dataframe1.note.mean()>each else \"ortalamanın üstünde\" for each in dataframe1.note]\n",
    "dataframe1\n",
    "\n",
    "#List comprehension sayesinde tek bir satırda for ve if kullanıp,\n",
    "#extra print yazmadan dataframe1 de yeni bir future açıp doldurduk."
   ]
  },
  {
   "cell_type": "code",
   "execution_count": 29,
   "id": "ad0f04c8",
   "metadata": {},
   "outputs": [
    {
     "data": {
      "text/plain": [
       "Index(['NAME', 'AGE', 'NOTE', 'BOOL', 'ORTALAMA'], dtype='object')"
      ]
     },
     "execution_count": 29,
     "metadata": {},
     "output_type": "execute_result"
    }
   ],
   "source": [
    "dataframe1.columns = [each.upper() for each in dataframe1.columns]\n",
    "dataframe1.columns\n",
    "\n",
    "#upper() metodu ile tüm kolon adlarını büyük harfe çeviririz. Datasetimiz karışık olduğunda\n",
    "#toplu halde düzeltmemizi sağlar."
   ]
  },
  {
   "cell_type": "code",
   "execution_count": 32,
   "id": "d982ac3c",
   "metadata": {},
   "outputs": [
    {
     "data": {
      "text/html": [
       "<div>\n",
       "<style scoped>\n",
       "    .dataframe tbody tr th:only-of-type {\n",
       "        vertical-align: middle;\n",
       "    }\n",
       "\n",
       "    .dataframe tbody tr th {\n",
       "        vertical-align: top;\n",
       "    }\n",
       "\n",
       "    .dataframe thead th {\n",
       "        text-align: right;\n",
       "    }\n",
       "</style>\n",
       "<table border=\"1\" class=\"dataframe\">\n",
       "  <thead>\n",
       "    <tr style=\"text-align: right;\">\n",
       "      <th></th>\n",
       "      <th>NAME</th>\n",
       "      <th>AGE</th>\n",
       "      <th>NOTE</th>\n",
       "      <th>BOOL</th>\n",
       "      <th>ORTALAMA</th>\n",
       "    </tr>\n",
       "  </thead>\n",
       "  <tbody>\n",
       "    <tr>\n",
       "      <th>0</th>\n",
       "      <td>Gülcan</td>\n",
       "      <td>24.0</td>\n",
       "      <td>123.0</td>\n",
       "      <td>True</td>\n",
       "      <td>ortalamanın altında</td>\n",
       "    </tr>\n",
       "    <tr>\n",
       "      <th>1</th>\n",
       "      <td>Ebru</td>\n",
       "      <td>21.0</td>\n",
       "      <td>456.0</td>\n",
       "      <td>False</td>\n",
       "      <td>ortalamanın altında</td>\n",
       "    </tr>\n",
       "    <tr>\n",
       "      <th>2</th>\n",
       "      <td>Hasan</td>\n",
       "      <td>29.0</td>\n",
       "      <td>78.0</td>\n",
       "      <td>True</td>\n",
       "      <td>ortalamanın altında</td>\n",
       "    </tr>\n",
       "    <tr>\n",
       "      <th>3</th>\n",
       "      <td>Ahmet</td>\n",
       "      <td>25.0</td>\n",
       "      <td>87654.0</td>\n",
       "      <td>True</td>\n",
       "      <td>ortalamanın üstünde</td>\n",
       "    </tr>\n",
       "    <tr>\n",
       "      <th>5</th>\n",
       "      <td>Yeliz</td>\n",
       "      <td>26.0</td>\n",
       "      <td>89.0</td>\n",
       "      <td>True</td>\n",
       "      <td>ortalamanın altında</td>\n",
       "    </tr>\n",
       "    <tr>\n",
       "      <th>1</th>\n",
       "      <td>Ebru</td>\n",
       "      <td>21.0</td>\n",
       "      <td>456.0</td>\n",
       "      <td>False</td>\n",
       "      <td>ortalamanın altında</td>\n",
       "    </tr>\n",
       "    <tr>\n",
       "      <th>2</th>\n",
       "      <td>Hasan</td>\n",
       "      <td>29.0</td>\n",
       "      <td>78.0</td>\n",
       "      <td>True</td>\n",
       "      <td>ortalamanın altında</td>\n",
       "    </tr>\n",
       "    <tr>\n",
       "      <th>3</th>\n",
       "      <td>Ahmet</td>\n",
       "      <td>25.0</td>\n",
       "      <td>87654.0</td>\n",
       "      <td>True</td>\n",
       "      <td>ortalamanın üstünde</td>\n",
       "    </tr>\n",
       "    <tr>\n",
       "      <th>5</th>\n",
       "      <td>Yeliz</td>\n",
       "      <td>26.0</td>\n",
       "      <td>89.0</td>\n",
       "      <td>True</td>\n",
       "      <td>ortalamanın altında</td>\n",
       "    </tr>\n",
       "    <tr>\n",
       "      <th>6</th>\n",
       "      <td>Mehmet</td>\n",
       "      <td>22.0</td>\n",
       "      <td>99.0</td>\n",
       "      <td>True</td>\n",
       "      <td>ortalamanın altında</td>\n",
       "    </tr>\n",
       "  </tbody>\n",
       "</table>\n",
       "</div>"
      ],
      "text/plain": [
       "     NAME   AGE     NOTE   BOOL             ORTALAMA\n",
       "0  Gülcan  24.0    123.0   True  ortalamanın altında\n",
       "1    Ebru  21.0    456.0  False  ortalamanın altında\n",
       "2   Hasan  29.0     78.0   True  ortalamanın altında\n",
       "3   Ahmet  25.0  87654.0   True  ortalamanın üstünde\n",
       "5   Yeliz  26.0     89.0   True  ortalamanın altında\n",
       "1    Ebru  21.0    456.0  False  ortalamanın altında\n",
       "2   Hasan  29.0     78.0   True  ortalamanın altında\n",
       "3   Ahmet  25.0  87654.0   True  ortalamanın üstünde\n",
       "5   Yeliz  26.0     89.0   True  ortalamanın altında\n",
       "6  Mehmet  22.0     99.0   True  ortalamanın altında"
      ]
     },
     "execution_count": 32,
     "metadata": {},
     "output_type": "execute_result"
    }
   ],
   "source": [
    "##Concatenating Data\n",
    "\n",
    "#verticle(dikey) birleştirme  concat() metodu ile iki dataframe'i birleştirir.\n",
    "\n",
    "data1 = dataframe1.head()     \n",
    "data2 = dataframe1.tail()\n",
    "data_concat = pd.concat([data1,data2],axis=0)\n",
    "data_concat"
   ]
  },
  {
   "cell_type": "code",
   "execution_count": 33,
   "id": "5021afd6",
   "metadata": {},
   "outputs": [
    {
     "data": {
      "text/html": [
       "<div>\n",
       "<style scoped>\n",
       "    .dataframe tbody tr th:only-of-type {\n",
       "        vertical-align: middle;\n",
       "    }\n",
       "\n",
       "    .dataframe tbody tr th {\n",
       "        vertical-align: top;\n",
       "    }\n",
       "\n",
       "    .dataframe thead th {\n",
       "        text-align: right;\n",
       "    }\n",
       "</style>\n",
       "<table border=\"1\" class=\"dataframe\">\n",
       "  <thead>\n",
       "    <tr style=\"text-align: right;\">\n",
       "      <th></th>\n",
       "      <th>NAME</th>\n",
       "      <th>AGE</th>\n",
       "      <th>NOTE</th>\n",
       "      <th>BOOL</th>\n",
       "      <th>ORTALAMA</th>\n",
       "      <th>NAME</th>\n",
       "      <th>AGE</th>\n",
       "      <th>NOTE</th>\n",
       "      <th>BOOL</th>\n",
       "      <th>ORTALAMA</th>\n",
       "    </tr>\n",
       "  </thead>\n",
       "  <tbody>\n",
       "    <tr>\n",
       "      <th>0</th>\n",
       "      <td>Gülcan</td>\n",
       "      <td>24.0</td>\n",
       "      <td>123.0</td>\n",
       "      <td>True</td>\n",
       "      <td>ortalamanın altında</td>\n",
       "      <td>NaN</td>\n",
       "      <td>NaN</td>\n",
       "      <td>NaN</td>\n",
       "      <td>NaN</td>\n",
       "      <td>NaN</td>\n",
       "    </tr>\n",
       "    <tr>\n",
       "      <th>1</th>\n",
       "      <td>Ebru</td>\n",
       "      <td>21.0</td>\n",
       "      <td>456.0</td>\n",
       "      <td>False</td>\n",
       "      <td>ortalamanın altında</td>\n",
       "      <td>Ebru</td>\n",
       "      <td>21.0</td>\n",
       "      <td>456.0</td>\n",
       "      <td>False</td>\n",
       "      <td>ortalamanın altında</td>\n",
       "    </tr>\n",
       "    <tr>\n",
       "      <th>2</th>\n",
       "      <td>Hasan</td>\n",
       "      <td>29.0</td>\n",
       "      <td>78.0</td>\n",
       "      <td>True</td>\n",
       "      <td>ortalamanın altında</td>\n",
       "      <td>Hasan</td>\n",
       "      <td>29.0</td>\n",
       "      <td>78.0</td>\n",
       "      <td>True</td>\n",
       "      <td>ortalamanın altında</td>\n",
       "    </tr>\n",
       "    <tr>\n",
       "      <th>3</th>\n",
       "      <td>Ahmet</td>\n",
       "      <td>25.0</td>\n",
       "      <td>87654.0</td>\n",
       "      <td>True</td>\n",
       "      <td>ortalamanın üstünde</td>\n",
       "      <td>Ahmet</td>\n",
       "      <td>25.0</td>\n",
       "      <td>87654.0</td>\n",
       "      <td>True</td>\n",
       "      <td>ortalamanın üstünde</td>\n",
       "    </tr>\n",
       "    <tr>\n",
       "      <th>5</th>\n",
       "      <td>Yeliz</td>\n",
       "      <td>26.0</td>\n",
       "      <td>89.0</td>\n",
       "      <td>True</td>\n",
       "      <td>ortalamanın altında</td>\n",
       "      <td>Yeliz</td>\n",
       "      <td>26.0</td>\n",
       "      <td>89.0</td>\n",
       "      <td>True</td>\n",
       "      <td>ortalamanın altında</td>\n",
       "    </tr>\n",
       "    <tr>\n",
       "      <th>6</th>\n",
       "      <td>NaN</td>\n",
       "      <td>NaN</td>\n",
       "      <td>NaN</td>\n",
       "      <td>NaN</td>\n",
       "      <td>NaN</td>\n",
       "      <td>Mehmet</td>\n",
       "      <td>22.0</td>\n",
       "      <td>99.0</td>\n",
       "      <td>True</td>\n",
       "      <td>ortalamanın altında</td>\n",
       "    </tr>\n",
       "  </tbody>\n",
       "</table>\n",
       "</div>"
      ],
      "text/plain": [
       "     NAME   AGE     NOTE   BOOL             ORTALAMA    NAME   AGE     NOTE  \\\n",
       "0  Gülcan  24.0    123.0   True  ortalamanın altında     NaN   NaN      NaN   \n",
       "1    Ebru  21.0    456.0  False  ortalamanın altında    Ebru  21.0    456.0   \n",
       "2   Hasan  29.0     78.0   True  ortalamanın altında   Hasan  29.0     78.0   \n",
       "3   Ahmet  25.0  87654.0   True  ortalamanın üstünde   Ahmet  25.0  87654.0   \n",
       "5   Yeliz  26.0     89.0   True  ortalamanın altında   Yeliz  26.0     89.0   \n",
       "6     NaN   NaN      NaN    NaN                  NaN  Mehmet  22.0     99.0   \n",
       "\n",
       "    BOOL             ORTALAMA  \n",
       "0    NaN                  NaN  \n",
       "1  False  ortalamanın altında  \n",
       "2   True  ortalamanın altında  \n",
       "3   True  ortalamanın üstünde  \n",
       "5   True  ortalamanın altında  \n",
       "6   True  ortalamanın altında  "
      ]
     },
     "execution_count": 33,
     "metadata": {},
     "output_type": "execute_result"
    }
   ],
   "source": [
    "#horizontal(yatay) birleştirme\n",
    "\n",
    "data_contact = pd.concat([data1,data2],axis=1) #axis= 1 yazarak sütunları birleştirdik\n",
    "data_contact\n",
    "\n",
    "#axis= 0 olursa satır, 1 olursa stunu seçer ve istenileni inplace yardımıyla kalıcı olarak siler"
   ]
  },
  {
   "cell_type": "code",
   "execution_count": 34,
   "id": "a3a0e28b",
   "metadata": {},
   "outputs": [
    {
     "data": {
      "text/html": [
       "<div>\n",
       "<style scoped>\n",
       "    .dataframe tbody tr th:only-of-type {\n",
       "        vertical-align: middle;\n",
       "    }\n",
       "\n",
       "    .dataframe tbody tr th {\n",
       "        vertical-align: top;\n",
       "    }\n",
       "\n",
       "    .dataframe thead th {\n",
       "        text-align: right;\n",
       "    }\n",
       "</style>\n",
       "<table border=\"1\" class=\"dataframe\">\n",
       "  <thead>\n",
       "    <tr style=\"text-align: right;\">\n",
       "      <th></th>\n",
       "      <th>NAME</th>\n",
       "      <th>AGE</th>\n",
       "      <th>NOTE</th>\n",
       "      <th>BOOL</th>\n",
       "      <th>ORTALAMA</th>\n",
       "      <th>yasx2</th>\n",
       "    </tr>\n",
       "  </thead>\n",
       "  <tbody>\n",
       "    <tr>\n",
       "      <th>0</th>\n",
       "      <td>Gülcan</td>\n",
       "      <td>24.0</td>\n",
       "      <td>123.0</td>\n",
       "      <td>True</td>\n",
       "      <td>ortalamanın altında</td>\n",
       "      <td>48.0</td>\n",
       "    </tr>\n",
       "    <tr>\n",
       "      <th>1</th>\n",
       "      <td>Ebru</td>\n",
       "      <td>21.0</td>\n",
       "      <td>456.0</td>\n",
       "      <td>False</td>\n",
       "      <td>ortalamanın altında</td>\n",
       "      <td>42.0</td>\n",
       "    </tr>\n",
       "    <tr>\n",
       "      <th>2</th>\n",
       "      <td>Hasan</td>\n",
       "      <td>29.0</td>\n",
       "      <td>78.0</td>\n",
       "      <td>True</td>\n",
       "      <td>ortalamanın altında</td>\n",
       "      <td>58.0</td>\n",
       "    </tr>\n",
       "    <tr>\n",
       "      <th>3</th>\n",
       "      <td>Ahmet</td>\n",
       "      <td>25.0</td>\n",
       "      <td>87654.0</td>\n",
       "      <td>True</td>\n",
       "      <td>ortalamanın üstünde</td>\n",
       "      <td>50.0</td>\n",
       "    </tr>\n",
       "    <tr>\n",
       "      <th>5</th>\n",
       "      <td>Yeliz</td>\n",
       "      <td>26.0</td>\n",
       "      <td>89.0</td>\n",
       "      <td>True</td>\n",
       "      <td>ortalamanın altında</td>\n",
       "      <td>52.0</td>\n",
       "    </tr>\n",
       "    <tr>\n",
       "      <th>6</th>\n",
       "      <td>Mehmet</td>\n",
       "      <td>22.0</td>\n",
       "      <td>99.0</td>\n",
       "      <td>True</td>\n",
       "      <td>ortalamanın altında</td>\n",
       "      <td>44.0</td>\n",
       "    </tr>\n",
       "  </tbody>\n",
       "</table>\n",
       "</div>"
      ],
      "text/plain": [
       "     NAME   AGE     NOTE   BOOL             ORTALAMA  yasx2\n",
       "0  Gülcan  24.0    123.0   True  ortalamanın altında   48.0\n",
       "1    Ebru  21.0    456.0  False  ortalamanın altında   42.0\n",
       "2   Hasan  29.0     78.0   True  ortalamanın altında   58.0\n",
       "3   Ahmet  25.0  87654.0   True  ortalamanın üstünde   50.0\n",
       "5   Yeliz  26.0     89.0   True  ortalamanın altında   52.0\n",
       "6  Mehmet  22.0     99.0   True  ortalamanın altında   44.0"
      ]
     },
     "execution_count": 34,
     "metadata": {},
     "output_type": "execute_result"
    }
   ],
   "source": [
    "##Transforming Data\n",
    "\n",
    "dataframe1[\"yasx2\"] = [each*2 for each in dataframe1.AGE]\n",
    "dataframe1"
   ]
  },
  {
   "cell_type": "code",
   "execution_count": 35,
   "id": "e25ef698",
   "metadata": {},
   "outputs": [
    {
     "data": {
      "text/html": [
       "<div>\n",
       "<style scoped>\n",
       "    .dataframe tbody tr th:only-of-type {\n",
       "        vertical-align: middle;\n",
       "    }\n",
       "\n",
       "    .dataframe tbody tr th {\n",
       "        vertical-align: top;\n",
       "    }\n",
       "\n",
       "    .dataframe thead th {\n",
       "        text-align: right;\n",
       "    }\n",
       "</style>\n",
       "<table border=\"1\" class=\"dataframe\">\n",
       "  <thead>\n",
       "    <tr style=\"text-align: right;\">\n",
       "      <th></th>\n",
       "      <th>NAME</th>\n",
       "      <th>AGE</th>\n",
       "      <th>NOTE</th>\n",
       "      <th>BOOL</th>\n",
       "      <th>ORTALAMA</th>\n",
       "      <th>yasx2</th>\n",
       "      <th>apply_metodu</th>\n",
       "    </tr>\n",
       "  </thead>\n",
       "  <tbody>\n",
       "    <tr>\n",
       "      <th>0</th>\n",
       "      <td>Gülcan</td>\n",
       "      <td>24.0</td>\n",
       "      <td>123.0</td>\n",
       "      <td>True</td>\n",
       "      <td>ortalamanın altında</td>\n",
       "      <td>48.0</td>\n",
       "      <td>48.0</td>\n",
       "    </tr>\n",
       "    <tr>\n",
       "      <th>1</th>\n",
       "      <td>Ebru</td>\n",
       "      <td>21.0</td>\n",
       "      <td>456.0</td>\n",
       "      <td>False</td>\n",
       "      <td>ortalamanın altında</td>\n",
       "      <td>42.0</td>\n",
       "      <td>42.0</td>\n",
       "    </tr>\n",
       "    <tr>\n",
       "      <th>2</th>\n",
       "      <td>Hasan</td>\n",
       "      <td>29.0</td>\n",
       "      <td>78.0</td>\n",
       "      <td>True</td>\n",
       "      <td>ortalamanın altında</td>\n",
       "      <td>58.0</td>\n",
       "      <td>58.0</td>\n",
       "    </tr>\n",
       "    <tr>\n",
       "      <th>3</th>\n",
       "      <td>Ahmet</td>\n",
       "      <td>25.0</td>\n",
       "      <td>87654.0</td>\n",
       "      <td>True</td>\n",
       "      <td>ortalamanın üstünde</td>\n",
       "      <td>50.0</td>\n",
       "      <td>50.0</td>\n",
       "    </tr>\n",
       "    <tr>\n",
       "      <th>5</th>\n",
       "      <td>Yeliz</td>\n",
       "      <td>26.0</td>\n",
       "      <td>89.0</td>\n",
       "      <td>True</td>\n",
       "      <td>ortalamanın altında</td>\n",
       "      <td>52.0</td>\n",
       "      <td>52.0</td>\n",
       "    </tr>\n",
       "    <tr>\n",
       "      <th>6</th>\n",
       "      <td>Mehmet</td>\n",
       "      <td>22.0</td>\n",
       "      <td>99.0</td>\n",
       "      <td>True</td>\n",
       "      <td>ortalamanın altında</td>\n",
       "      <td>44.0</td>\n",
       "      <td>44.0</td>\n",
       "    </tr>\n",
       "  </tbody>\n",
       "</table>\n",
       "</div>"
      ],
      "text/plain": [
       "     NAME   AGE     NOTE   BOOL             ORTALAMA  yasx2  apply_metodu\n",
       "0  Gülcan  24.0    123.0   True  ortalamanın altında   48.0          48.0\n",
       "1    Ebru  21.0    456.0  False  ortalamanın altında   42.0          42.0\n",
       "2   Hasan  29.0     78.0   True  ortalamanın altında   58.0          58.0\n",
       "3   Ahmet  25.0  87654.0   True  ortalamanın üstünde   50.0          50.0\n",
       "5   Yeliz  26.0     89.0   True  ortalamanın altında   52.0          52.0\n",
       "6  Mehmet  22.0     99.0   True  ortalamanın altında   44.0          44.0"
      ]
     },
     "execution_count": 35,
     "metadata": {},
     "output_type": "execute_result"
    }
   ],
   "source": [
    "def mlt(yas):\n",
    "    return yas*2\n",
    "dataframe1[\"apply_metodu\"] = dataframe1.AGE.apply(mlt)\n",
    "dataframe1"
   ]
  }
 ],
 "metadata": {
  "kernelspec": {
   "display_name": "Python 3 (ipykernel)",
   "language": "python",
   "name": "python3"
  },
  "language_info": {
   "codemirror_mode": {
    "name": "ipython",
    "version": 3
   },
   "file_extension": ".py",
   "mimetype": "text/x-python",
   "name": "python",
   "nbconvert_exporter": "python",
   "pygments_lexer": "ipython3",
   "version": "3.11.2"
  }
 },
 "nbformat": 4,
 "nbformat_minor": 5
}
